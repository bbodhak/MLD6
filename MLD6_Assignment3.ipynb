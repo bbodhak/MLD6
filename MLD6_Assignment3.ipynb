{
  "nbformat": 4,
  "nbformat_minor": 0,
  "metadata": {
    "colab": {
      "name": "MLD6_Assignment3.ipynb",
      "provenance": [],
      "collapsed_sections": [],
      "authorship_tag": "ABX9TyN2s+lSJcVMbLENICz2UvJy",
      "include_colab_link": true
    },
    "kernelspec": {
      "name": "python3",
      "display_name": "Python 3"
    }
  },
  "cells": [
    {
      "cell_type": "markdown",
      "metadata": {
        "id": "view-in-github",
        "colab_type": "text"
      },
      "source": [
        "<a href=\"https://colab.research.google.com/github/bbodhak/MLD6/blob/master/MLD6_Assignment3.ipynb\" target=\"_parent\"><img src=\"https://colab.research.google.com/assets/colab-badge.svg\" alt=\"Open In Colab\"/></a>"
      ]
    },
    {
      "cell_type": "code",
      "metadata": {
        "id": "COAHehAJ8ba0",
        "colab_type": "code",
        "colab": {
          "base_uri": "https://localhost:8080/",
          "height": 51
        },
        "outputId": "d214bade-a766-426d-9730-a27eaafce876"
      },
      "source": [
        "'''1.1 Write a Python Program to implement your own myreduce() function which works exactly\n",
        "like Python's built-in function reduce()\n",
        "'''\n",
        "#reduce function\n",
        "lst1 = [10,20,30,10,30, 50]\n",
        "\n",
        "from functools import reduce\n",
        "num = reduce(lambda x,y:x+y,lst1)\n",
        "print(num)\n",
        "\n",
        "#myreduce function\n",
        "lst2 = [10,20,30,10,30]\n",
        "\n",
        "def myreduce(lst) :\n",
        "  redu = 0\n",
        "  for i in lst :\n",
        "    redu = redu + i\n",
        "  return redu\n",
        "\n",
        "myreduce(lst2)"
      ],
      "execution_count": null,
      "outputs": [
        {
          "output_type": "stream",
          "text": [
            "150\n"
          ],
          "name": "stdout"
        },
        {
          "output_type": "execute_result",
          "data": {
            "text/plain": [
              "100"
            ]
          },
          "metadata": {
            "tags": []
          },
          "execution_count": 2
        }
      ]
    },
    {
      "cell_type": "code",
      "metadata": {
        "id": "TA6-lX1uUok2",
        "colab_type": "code",
        "colab": {
          "base_uri": "https://localhost:8080/",
          "height": 68
        },
        "outputId": "70f2a873-5850-428a-f32c-96075de9cec4"
      },
      "source": [
        "'''\n",
        "1.2 Write a Python program to implement your own myfilter() function which works exactly\n",
        "like Python's built-in function filter()\n",
        "'''\n",
        "#Get me the even number\n",
        "#with filter function\n",
        "num = [1,2,3,4,5,6,7,8,9,10]\n",
        "\n",
        "filt1 = list(filter(lambda x:x%2==0, num))\n",
        "print(filt1)\n",
        "\n",
        "#myfilter with list comprehension\n",
        "filt2 = [x for x in num if x%2==0]\n",
        "print(filt2)\n",
        "\n",
        "#myfilter with function\n",
        "\n",
        "def myfilter(n) :\n",
        "  for i in n :\n",
        "    if i%2==0 :\n",
        "      print(i, end=' ')\n",
        "myfilter(num)\n",
        "\n"
      ],
      "execution_count": null,
      "outputs": [
        {
          "output_type": "stream",
          "text": [
            "[2, 4, 6, 8, 10]\n",
            "[2, 4, 6, 8, 10]\n",
            "2 4 6 8 10 "
          ],
          "name": "stdout"
        }
      ]
    },
    {
      "cell_type": "code",
      "metadata": {
        "id": "xEEyhuxUTx6-",
        "colab_type": "code",
        "colab": {
          "base_uri": "https://localhost:8080/",
          "height": 119
        },
        "outputId": "b1ccedd6-a447-4bf3-d4f8-5526138713de"
      },
      "source": [
        "'''2. Implement List comprehensions to produce the following lists.\n",
        "Write List comprehensions to produce the following Lists\n",
        "['A', 'C', 'A', 'D', 'G', 'I', ’L’, ‘ D’]\n",
        "['x', 'xx', 'xxx', 'xxxx', 'y', 'yy', 'yyy', 'yyyy', 'z', 'zz', 'zzz', 'zzzz']\n",
        "['x', 'y', 'z', 'xx', 'yy', 'zz', 'xxx', 'yyy', 'zzz', 'xxxx', 'yyyy', 'zzzz']\n",
        "[[2], [3], [4], [3], [4], [5], [4], [5], [6]]\n",
        "[[2, 3, 4, 5], [3, 4, 5, 6],\n",
        "[4, 5, 6, 7], [5, 6, 7, 8]]\n",
        "[(1, 1), (2, 1), (3, 1), (1, 2), (2, 2), (3, 2), (1, 3), (2, 3), (3, 3)]\n",
        "\n",
        "'''\n",
        "\n",
        "a = \"ACADGILD\"\n",
        "lta = [word for word in a]\n",
        "print(\"ACADGILD has been changed to {}\".format(lta))\n",
        "\n",
        "b = \"xyz\"\n",
        "ltb = [word*num for word in b for num in range(1,5)]\n",
        "print(\"xyz has been changed to {}\".format(ltb))\n",
        "\n",
        "c = \"xyz\"\n",
        "ltc = [word*num for num in range(1,5) for word in c]\n",
        "print(\"xyz has been changed to {}\".format(ltc))\n",
        "\n",
        "d = [2,3,4]\n",
        "ltd = [[i+num] for i in d for num in range(0,3)]\n",
        "print(\"[2,3,4] has been changed to {}\".format(ltd))\n",
        "\n",
        "e = [2,3,4,5]\n",
        "lte = [[i+numb for i in e] for numb in range(0,4)]\n",
        "print (\"[2,3,4,5] has been changed to {}\".format(lte))\n",
        "\n",
        "f = (1,2,3)\n",
        "ltf = [(b,a) for a in f for b in f]\n",
        "print (\"[1,2,3] has been changed to {}\".format(ltf))"
      ],
      "execution_count": 33,
      "outputs": [
        {
          "output_type": "stream",
          "text": [
            "ACADGILD has been changed to ['A', 'C', 'A', 'D', 'G', 'I', 'L', 'D']\n",
            "xyz has been changed to ['x', 'xx', 'xxx', 'xxxx', 'y', 'yy', 'yyy', 'yyyy', 'z', 'zz', 'zzz', 'zzzz']\n",
            "xyz has been changed to ['x', 'y', 'z', 'xx', 'yy', 'zz', 'xxx', 'yyy', 'zzz', 'xxxx', 'yyyy', 'zzzz']\n",
            "[2,3,4] has been changed to [[2], [3], [4], [3], [4], [5], [4], [5], [6]]\n",
            "[2,3,4,5] has been changed to [[2, 3, 4, 5], [3, 4, 5, 6], [4, 5, 6, 7], [5, 6, 7, 8]]\n",
            "[1,2,3] has been changed to [(1, 1), (2, 1), (3, 1), (1, 2), (2, 2), (3, 2), (1, 3), (2, 3), (3, 3)]\n"
          ],
          "name": "stdout"
        }
      ]
    }
  ]
}